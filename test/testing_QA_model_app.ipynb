{
  "nbformat": 4,
  "nbformat_minor": 0,
  "metadata": {
    "colab": {
      "provenance": [],
      "authorship_tag": "ABX9TyPnVIUOSSOYy645kBbOGPAP",
      "include_colab_link": true
    },
    "kernelspec": {
      "name": "python3",
      "display_name": "Python 3"
    },
    "language_info": {
      "name": "python"
    }
  },
  "cells": [
    {
      "cell_type": "markdown",
      "metadata": {
        "id": "view-in-github",
        "colab_type": "text"
      },
      "source": [
        "<a href=\"https://colab.research.google.com/github/shiki-fujin/qamodel/blob/main/test/testing_QA_model_app.ipynb\" target=\"_parent\"><img src=\"https://colab.research.google.com/assets/colab-badge.svg\" alt=\"Open In Colab\"/></a>"
      ]
    },
    {
      "cell_type": "code",
      "execution_count": 1,
      "metadata": {
        "id": "AH6o_HjI0Bpr"
      },
      "outputs": [],
      "source": [
        "import json\n",
        "import requests"
      ]
    },
    {
      "cell_type": "markdown",
      "source": [
        "## Prepare dataset"
      ],
      "metadata": {
        "id": "ExVqkY2PAzzQ"
      }
    },
    {
      "cell_type": "code",
      "source": [
        "with open(\"train-v2.0.json\", 'r') as f:\n",
        "    data = json.load(f)"
      ],
      "metadata": {
        "id": "1joVsJAj-uMv"
      },
      "execution_count": 46,
      "outputs": []
    },
    {
      "cell_type": "code",
      "source": [
        "listed_topics = []\n",
        "for d in data['data']:\n",
        "  listed_topics.append(d['title'])\n",
        "\n",
        "print('Number of topics :', len(listed_topics))"
      ],
      "metadata": {
        "colab": {
          "base_uri": "https://localhost:8080/"
        },
        "id": "CoaFWXPEC6y5",
        "outputId": "f54bf6bf-bcc2-4e8f-b065-af4042a15c79"
      },
      "execution_count": 45,
      "outputs": [
        {
          "output_type": "stream",
          "name": "stdout",
          "text": [
            "Number of topics : 442\n"
          ]
        }
      ]
    },
    {
      "cell_type": "code",
      "source": [
        "# Obtain Q-A's for a specific topic\n",
        "def get_qa(topic, data):\n",
        "    q = []\n",
        "    a = []\n",
        "    for d in data['data']:\n",
        "        if d['title']==topic:\n",
        "            for paragraph in d['paragraphs']:\n",
        "                for qa in paragraph['qas']:\n",
        "                    if not qa['is_impossible']:\n",
        "                        q.append(qa['question'])\n",
        "                        a.append(qa['answers'][0]['text'])\n",
        "            return q,a"
      ],
      "metadata": {
        "id": "AAvq4Y46A7Zs"
      },
      "execution_count": 23,
      "outputs": []
    },
    {
      "cell_type": "markdown",
      "source": [
        "## Try the QA-app"
      ],
      "metadata": {
        "id": "5dI_sRo6BnMi"
      }
    },
    {
      "cell_type": "code",
      "source": [
        "# Define AWS EC2 public IPV4\n",
        "ec2_ip = 'http://43.207.31.160:8000'\n",
        "\n",
        "# Define the request URLs\n",
        "set_context_request = f'{ec2_ip}/set_context'\n",
        "get_answer_request = f'{ec2_ip}/get_answer'"
      ],
      "metadata": {
        "id": "QWBR6TYWBtLL"
      },
      "execution_count": 35,
      "outputs": []
    },
    {
      "cell_type": "markdown",
      "source": [
        "### Topic : **Premier_League**"
      ],
      "metadata": {
        "id": "grTaZnj_Egqr"
      }
    },
    {
      "cell_type": "code",
      "source": [
        "questions, answers = get_qa(topic='Premier_League', data=data)\n",
        "print(\"Number of available questions: {}\".format(len(questions)))"
      ],
      "metadata": {
        "colab": {
          "base_uri": "https://localhost:8080/"
        },
        "id": "ABAU0wBJEj-y",
        "outputId": "f9913eb4-3ac9-4338-fef6-e0b7cdf7542f"
      },
      "execution_count": 47,
      "outputs": [
        {
          "output_type": "stream",
          "name": "stdout",
          "text": [
            "Number of available questions: 357\n"
          ]
        }
      ]
    },
    {
      "cell_type": "code",
      "source": [
        "# Set Context first\n",
        "\n",
        "json_data = {\n",
        "  'questions':questions,\n",
        "  'answers':answers,\n",
        "}\n",
        "\n",
        "response = requests.post(\n",
        "  set_context_request,\n",
        "  json=json_data\n",
        ")\n",
        "\n",
        "response.json()"
      ],
      "metadata": {
        "colab": {
          "base_uri": "https://localhost:8080/"
        },
        "id": "lc1iStXrBCtr",
        "outputId": "00e7f961-1c8d-4224-89b0-ca8846bf27fb"
      },
      "execution_count": 28,
      "outputs": [
        {
          "output_type": "execute_result",
          "data": {
            "text/plain": [
              "{'message': 'Search context set'}"
            ]
          },
          "metadata": {},
          "execution_count": 28
        }
      ]
    },
    {
      "cell_type": "code",
      "source": [
        "# Try new questions\n",
        "\n",
        "new_questions = [\n",
        "    'How many teams compete in the Premier League ?',\n",
        "    'When does the Premier League starts and finishes ?',\n",
        "    'Who has the highest number of goals in the Premier League ?',\n",
        "]\n",
        "\n",
        "json_data = {\n",
        "  'questions':new_questions,\n",
        "}\n",
        "\n",
        "response = requests.post(\n",
        "  get_answer_request,\n",
        "  json=json_data\n",
        ")\n",
        "\n",
        "for d in response.json():\n",
        "  print('\\n'.join([\"{} : {}\".format(k, v) for k,v in d.items()])+'\\n')"
      ],
      "metadata": {
        "colab": {
          "base_uri": "https://localhost:8080/"
        },
        "id": "O_wo73Cc0IGT",
        "outputId": "e8880e28-76c5-4579-a6be-1e633649a907"
      },
      "execution_count": 29,
      "outputs": [
        {
          "output_type": "stream",
          "name": "stdout",
          "text": [
            "orig_q : How many teams compete in the Premier League ?\n",
            "best_q : How many clubs are currently in the Premier League?\n",
            "best_a : 20\n",
            "\n",
            "orig_q : When does the Premier League starts and finishes ?\n",
            "best_q : When does the Premier League have its playing season?\n",
            "best_a : During the course of a season (from August to May)\n",
            "\n",
            "orig_q : Who has the highest number of goals in the Premier League ?\n",
            "best_q : Who has the record for most goals in the Premier League?\n",
            "best_a : Newcastle United striker Alan Shearer holds the record for most Premier League goals with 260\n",
            "\n"
          ]
        }
      ]
    },
    {
      "cell_type": "code",
      "source": [
        "# Trying my own questions\n",
        "\n",
        "new_questions = [\n",
        "    'How many goals does Messi have?',\n",
        "    'What is the highest number of Hat tricks ?',\n",
        "]\n",
        "\n",
        "json_data = {\n",
        "  'questions':new_questions,\n",
        "}\n",
        "\n",
        "response = requests.post(\n",
        "  get_answer_request,\n",
        "  json=json_data\n",
        ")\n",
        "\n",
        "for d in response.json():\n",
        "  print('\\n'.join([\"{} : {}\".format(k, v) for k,v in d.items()])+'\\n')"
      ],
      "metadata": {
        "colab": {
          "base_uri": "https://localhost:8080/"
        },
        "id": "hX5GqXz_9i9s",
        "outputId": "794c86a8-cf23-4227-9685-ae4a7915d20e"
      },
      "execution_count": 36,
      "outputs": [
        {
          "output_type": "stream",
          "name": "stdout",
          "text": [
            "orig_q : How many goals does Messi have?\n",
            "best_q : How many players have achieved 100 goals?\n",
            "best_a : Twenty-four players have reached the 100-goal mark\n",
            "\n",
            "orig_q : What is the highest number of Hat tricks ?\n",
            "best_q : How many different players have won the top scorer title?\n",
            "best_a : 14 different players from 10 different clubs have won or shared the top scorers title.\n",
            "\n"
          ]
        }
      ]
    },
    {
      "cell_type": "markdown",
      "source": [
        "### Topic : **Philosophy_of_space_and_time**"
      ],
      "metadata": {
        "id": "fCtZjpdVC6pO"
      }
    },
    {
      "cell_type": "code",
      "source": [
        "questions, answers = get_qa(topic='Philosophy_of_space_and_time', data=data)\n",
        "print(\"Number of available questions: {}\".format(len(questions)))"
      ],
      "metadata": {
        "colab": {
          "base_uri": "https://localhost:8080/"
        },
        "id": "0-TDJjYMD4SX",
        "outputId": "69ca8673-4403-48e4-fe25-360d9505a9ad"
      },
      "execution_count": 50,
      "outputs": [
        {
          "output_type": "stream",
          "name": "stdout",
          "text": [
            "Number of available questions: 109\n"
          ]
        }
      ]
    },
    {
      "cell_type": "code",
      "source": [
        "# Set Context\n",
        "\n",
        "json_data = {\n",
        "  'questions':questions,\n",
        "  'answers':answers,\n",
        "}\n",
        "\n",
        "response = requests.post(\n",
        "  set_context_request,\n",
        "  json=json_data\n",
        ")\n",
        "\n",
        "response.json()"
      ],
      "metadata": {
        "colab": {
          "base_uri": "https://localhost:8080/"
        },
        "id": "c3xKMOGPFe2z",
        "outputId": "60ab050a-bd1f-4bf5-f0d0-fb84db510ef5"
      },
      "execution_count": 51,
      "outputs": [
        {
          "output_type": "execute_result",
          "data": {
            "text/plain": [
              "{'message': 'Search context set'}"
            ]
          },
          "metadata": {},
          "execution_count": 51
        }
      ]
    },
    {
      "cell_type": "code",
      "source": [
        "# Try new questions\n",
        "\n",
        "new_questions = [\n",
        "    'Space time is relative to ?',\n",
        "    'What is the photoelectric effect?',\n",
        "    'What medium does sound travel faster than light ?',\n",
        "]\n",
        "\n",
        "json_data = {\n",
        "  'questions':new_questions,\n",
        "}\n",
        "\n",
        "response = requests.post(\n",
        "  get_answer_request,\n",
        "  json=json_data\n",
        ")\n",
        "\n",
        "for d in response.json():\n",
        "  print('\\n'.join([\"{} : {}\".format(k, v) for k,v in d.items()])+'\\n')"
      ],
      "metadata": {
        "colab": {
          "base_uri": "https://localhost:8080/"
        },
        "id": "GZ1ULz8dFgOB",
        "outputId": "aec036c8-32bb-4f49-94bf-e615a5bdfe05"
      },
      "execution_count": 52,
      "outputs": [
        {
          "output_type": "stream",
          "name": "stdout",
          "text": [
            "orig_q : Space time is relative to ?\n",
            "best_q : The  philosophy of space and time focuses on whether or not time and space exist independently of what?\n",
            "best_a : the mind\n",
            "\n",
            "orig_q : What is the photoelectric effect?\n",
            "best_q : In all reference frames, how is the the speed of light?\n",
            "best_a : the same\n",
            "\n",
            "orig_q : What medium does sound travel faster than light ?\n",
            "best_q : Before Einstein, speed was though to be relative to what?\n",
            "best_a : the luminiferous ether\n",
            "\n"
          ]
        }
      ]
    }
  ]
}